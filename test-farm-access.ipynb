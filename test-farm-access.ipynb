{
 "cells": [
  {
   "cell_type": "code",
   "execution_count": 5,
   "id": "nearby-fundamentals",
   "metadata": {},
   "outputs": [],
   "source": [
    "import scanpy as sc\n",
    "import pandas as pd\n",
    "import numpy as np\n",
    "import matplotlib.pyplot as plt\n",
    "import seaborn as sns; sns.set(color_codes=True)\n",
    "from pathlib import Path\n"
   ]
  },
  {
   "cell_type": "code",
   "execution_count": 9,
   "id": "amended-oliver",
   "metadata": {},
   "outputs": [],
   "source": [
    "adata = sc.read(\"/lustre/scratch126/cellgen/team298/ig7/YS_proj/Datasets/immune_gonads.h5ad\")"
   ]
  },
  {
   "cell_type": "code",
   "execution_count": 10,
   "id": "a8c73ce3",
   "metadata": {},
   "outputs": [
    {
     "data": {
      "text/plain": [
       "AnnData object with n_obs × n_vars = 19538 × 28497\n",
       "    obs: 'batch', 'batch_collection', 'cryopreserved', 'individual', 'location', 'n_counts', 'n_genes', 'percent_mito', 'process', 'sample', 'sex', 'stage', 'study', 'PCW', 'sample_source', 'doublet_score', 'scrublet_score', 'scrublet_cluster_score', 'zscore', 'bh_pval', 'bonf_pval', 'leiden', 'enrichment', '5v1.1', 'TP', 'clusters'\n",
       "    var: 'gene_ids-0-0', 'feature_types-0-0', 'n_cells-0-0', 'gene_ids-1-0', 'feature_types-1-0', 'n_cells-1-0', 'gene_ids-2-0', 'feature_types-2-0', 'n_cells-2-0', 'gene_ids-3-0', 'feature_types-3-0', 'n_cells-3-0', 'gene_ids-4-0', 'feature_types-4-0', 'n_cells-4-0', 'gene_ids-5-0', 'feature_types-5-0', 'n_cells-5-0', 'gene_ids-6-0', 'feature_types-6-0', 'n_cells-6-0', 'gene_ids-7-0', 'feature_types-7-0', 'n_cells-7-0', 'gene_ids-8-0', 'feature_types-8-0', 'n_cells-8-0', 'gene_ids-9-0', 'feature_types-9-0', 'n_cells-9-0', 'gene_ids-10-0', 'feature_types-10-0', 'n_cells-10-0', 'n_cells-0', 'gene_ids-0-1', 'feature_types-0-1', 'n_cells-0-1', 'gene_ids-1-1', 'feature_types-1-1', 'n_cells-1-1', 'gene_ids-2-1', 'feature_types-2-1', 'n_cells-2-1', 'gene_ids-3-1', 'feature_types-3-1', 'n_cells-3-1', 'gene_ids-4-1', 'feature_types-4-1', 'n_cells-4-1', 'gene_ids-5-1', 'feature_types-5-1', 'n_cells-5-1', 'gene_ids-6-1', 'feature_types-6-1', 'n_cells-6-1', 'gene_ids-7-1', 'feature_types-7-1', 'n_cells-7-1', 'gene_ids-8-1', 'feature_types-8-1', 'n_cells-8-1', 'gene_ids-9-1', 'feature_types-9-1', 'n_cells-9-1', 'gene_ids-10-1', 'feature_types-10-1', 'n_cells-10-1', 'n_cells-1', 'gene_ids-11-1', 'feature_types-11-1', 'n_cells-11-1', 'gene_ids-12-1', 'feature_types-12-1', 'n_cells-12-1', 'gene_ids-13-1', 'feature_types-13-1', 'n_cells-13-1', 'gene_ids-14-1', 'feature_types-14-1', 'n_cells-14-1', 'gene_ids-15-1', 'feature_types-15-1', 'n_cells-15-1', 'gene_ids-16-1', 'feature_types-16-1', 'n_cells-16-1', 'gene_ids-17-1', 'feature_types-17-1', 'n_cells-17-1', 'gene_ids-18-1', 'feature_types-18-1', 'n_cells-18-1', 'gene_ids-19-1', 'feature_types-19-1', 'n_cells-19-1', 'gene_ids-20-1', 'feature_types-20-1', 'n_cells-20-1', 'gene_ids-21-1', 'feature_types-21-1', 'n_cells-21-1', 'gene_ids-22-1', 'feature_types-22-1', 'n_cells-22-1', 'gene_ids-23-1', 'feature_types-23-1', 'n_cells-23-1', 'gene_ids-24-1', 'feature_types-24-1', 'n_cells-24-1', 'gene_ids-25-1', 'feature_types-25-1', 'n_cells-25-1', 'gene_ids-26-1', 'feature_types-26-1', 'n_cells-26-1', 'gene_ids-27-1', 'feature_types-27-1', 'n_cells-27-1', 'gene_ids-28-1', 'feature_types-28-1', 'n_cells-28-1', 'gene_ids-29-1', 'feature_types-29-1', 'n_cells-29-1', 'gene_ids-30-1', 'feature_types-30-1', 'n_cells-30-1', 'gene_ids-31-1', 'feature_types-31-1', 'n_cells-31-1', 'gene_ids-32-1', 'feature_types-32-1', 'n_cells-32-1', 'gene_ids-33-1', 'feature_types-33-1', 'n_cells-33-1', 'gene_ids-34-1', 'feature_types-34-1', 'n_cells-34-1', 'gene_ids-35-1', 'feature_types-35-1', 'n_cells-35-1', 'gene_ids-36-1', 'feature_types-36-1', 'n_cells-36-1', 'gene_ids-37-1', 'feature_types-37-1', 'n_cells-37-1', 'gene_ids-38-1', 'feature_types-38-1', 'n_cells-38-1', 'gene_ids-39-1', 'feature_types-39-1', 'n_cells-39-1', 'gene_ids-40-1', 'feature_types-40-1', 'n_cells-40-1', 'gene_ids-41-1', 'feature_types-41-1', 'n_cells-41-1', 'gene_ids-42-1', 'feature_types-42-1', 'n_cells-42-1', 'gene_ids-43-1', 'feature_types-43-1', 'n_cells-43-1', 'gene_ids-44-1', 'feature_types-44-1', 'n_cells-44-1', 'gene_ids-45-1', 'feature_types-45-1', 'n_cells-45-1', 'gene_ids-46-1', 'feature_types-46-1', 'n_cells-46-1', 'gene_ids-47-1', 'feature_types-47-1', 'n_cells-47-1', 'gene_ids-48-1', 'feature_types-48-1', 'n_cells-48-1', 'gene_ids-49-1', 'feature_types-49-1', 'n_cells-49-1', 'gene_ids-50-1', 'feature_types-50-1', 'n_cells-50-1', 'gene_ids-51-1', 'feature_types-51-1', 'n_cells-51-1', 'gene_ids-52-1', 'feature_types-52-1', 'n_cells-52-1'\n",
       "    obsm: 'X_scVI'"
      ]
     },
     "execution_count": 10,
     "metadata": {},
     "output_type": "execute_result"
    }
   ],
   "source": [
    "adata"
   ]
  }
 ],
 "metadata": {
  "kernelspec": {
   "display_name": "teichlab",
   "language": "python",
   "name": "teichlab"
  },
  "language_info": {
   "codemirror_mode": {
    "name": "ipython",
    "version": 3
   },
   "file_extension": ".py",
   "mimetype": "text/x-python",
   "name": "python",
   "nbconvert_exporter": "python",
   "pygments_lexer": "ipython3",
   "version": "3.8.8"
  }
 },
 "nbformat": 4,
 "nbformat_minor": 5
}
